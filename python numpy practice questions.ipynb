{
 "cells": [
  {
   "cell_type": "markdown",
   "metadata": {},
   "source": [
    "# Python Practice Problems"
   ]
  },
  {
   "cell_type": "raw",
   "metadata": {},
   "source": [
    "String Reversal & Palindrome\n",
    "String reversal questions can provide some information as to how well, certain candidates have been with dealing with text in python and at handling basic operations.\n",
    "Question 1:\n",
    "Question: Reverse the String “ “the fox jumps over the lazy dog”"
   ]
  },
  {
   "cell_type": "code",
   "execution_count": 18,
   "metadata": {},
   "outputs": [
    {
     "name": "stdout",
     "output_type": "stream",
     "text": [
      "Enter the textthe fox jumps over the lazy dog\n"
     ]
    }
   ],
   "source": [
    "str1=input(\"Enter the text\")\n",
    "str2=str1[::-1]"
   ]
  },
  {
   "cell_type": "code",
   "execution_count": 19,
   "metadata": {},
   "outputs": [
    {
     "data": {
      "text/plain": [
       "'god yzal eht revo spmuj xof eht'"
      ]
     },
     "execution_count": 19,
     "metadata": {},
     "output_type": "execute_result"
    }
   ],
   "source": [
    "str2"
   ]
  },
  {
   "cell_type": "code",
   "execution_count": 20,
   "metadata": {},
   "outputs": [],
   "source": [
    "str3=''.join(x for x in reversed(str1))"
   ]
  },
  {
   "cell_type": "code",
   "execution_count": 23,
   "metadata": {},
   "outputs": [
    {
     "data": {
      "text/plain": [
       "['g',\n",
       " 'o',\n",
       " 'd',\n",
       " ' ',\n",
       " 'y',\n",
       " 'z',\n",
       " 'a',\n",
       " 'l',\n",
       " ' ',\n",
       " 'e',\n",
       " 'h',\n",
       " 't',\n",
       " ' ',\n",
       " 'r',\n",
       " 'e',\n",
       " 'v',\n",
       " 'o',\n",
       " ' ',\n",
       " 's',\n",
       " 'p',\n",
       " 'm',\n",
       " 'u',\n",
       " 'j',\n",
       " ' ',\n",
       " 'x',\n",
       " 'o',\n",
       " 'f',\n",
       " ' ',\n",
       " 'e',\n",
       " 'h',\n",
       " 't']"
      ]
     },
     "execution_count": 23,
     "metadata": {},
     "output_type": "execute_result"
    }
   ],
   "source": [
    "[x for x in reversed(str1)]"
   ]
  },
  {
   "cell_type": "raw",
   "metadata": {},
   "source": [
    "Question 2:\n",
    "Question: identity all words that are palindromes in the following sentence “Lol, this is a gag, I didn’t laugh so much in a long time”"
   ]
  },
  {
   "cell_type": "code",
   "execution_count": 62,
   "metadata": {},
   "outputs": [
    {
     "name": "stdout",
     "output_type": "stream",
     "text": [
      "Enter the stringLol, this is a gag, I didn’t laugh so much in a long time\n",
      "lol\n",
      "gag\n"
     ]
    }
   ],
   "source": [
    "\n",
    "def palindrome(n):\n",
    "    new=n.split(' ')\n",
    "    new_string=[i.strip(',') for i in new]\n",
    "    for i in new_string:\n",
    "        i=i.lower()\n",
    "        if (i==i[::-1]):\n",
    "            if(len(i)==1):\n",
    "                pass\n",
    "            else:\n",
    "                print(i)\n",
    "if __name__==\"__main__\":\n",
    "    n=input('Enter the string')\n",
    "    palindrome(n)"
   ]
  },
  {
   "cell_type": "raw",
   "metadata": {},
   "source": [
    "Question: Write a program that prints the number for 1 to 50, for number multiple of 2 print fizz instead of a number, for numbers multiple of 3 print buzz, for numbers which are multiple of both 2 and 3 fizzbuzz."
   ]
  },
  {
   "cell_type": "code",
   "execution_count": 69,
   "metadata": {},
   "outputs": [
    {
     "name": "stdout",
     "output_type": "stream",
     "text": [
      "1\n",
      "frizz\n",
      "buzz\n",
      "frizz\n",
      "5\n",
      "fizzbuzz\n",
      "7\n",
      "frizz\n",
      "buzz\n",
      "frizz\n",
      "11\n",
      "fizzbuzz\n",
      "13\n",
      "frizz\n",
      "buzz\n",
      "frizz\n",
      "17\n",
      "fizzbuzz\n",
      "19\n",
      "frizz\n",
      "buzz\n",
      "frizz\n",
      "23\n",
      "fizzbuzz\n",
      "25\n",
      "frizz\n",
      "buzz\n",
      "frizz\n",
      "29\n",
      "fizzbuzz\n",
      "31\n",
      "frizz\n",
      "buzz\n",
      "frizz\n",
      "35\n",
      "fizzbuzz\n",
      "37\n",
      "frizz\n",
      "buzz\n",
      "frizz\n",
      "41\n",
      "fizzbuzz\n",
      "43\n",
      "frizz\n",
      "buzz\n",
      "frizz\n",
      "47\n",
      "fizzbuzz\n",
      "49\n"
     ]
    }
   ],
   "source": [
    "for i in range(1,50):\n",
    "    if(i%2==0 and i%3==0):\n",
    "        print('fizzbuzz')\n",
    "    elif(i%2==0):\n",
    "        print('frizz')\n",
    "    elif(i%3==0):\n",
    "        print('buzz')\n",
    "    else:\n",
    "        print(i)"
   ]
  },
  {
   "cell_type": "code",
   "execution_count": 70,
   "metadata": {},
   "outputs": [
    {
     "name": "stdout",
     "output_type": "stream",
     "text": [
      "1\n",
      "Fizz\n",
      "Buzz\n",
      "Fizz\n",
      "5\n",
      "FizzBuzz\n",
      "7\n",
      "Fizz\n",
      "Buzz\n",
      "Fizz\n",
      "11\n",
      "FizzBuzz\n",
      "13\n",
      "Fizz\n",
      "Buzz\n",
      "Fizz\n",
      "17\n",
      "FizzBuzz\n",
      "19\n",
      "Fizz\n",
      "Buzz\n",
      "Fizz\n",
      "23\n",
      "FizzBuzz\n",
      "25\n",
      "Fizz\n",
      "Buzz\n",
      "Fizz\n",
      "29\n",
      "FizzBuzz\n",
      "31\n",
      "Fizz\n",
      "Buzz\n",
      "Fizz\n",
      "35\n",
      "FizzBuzz\n",
      "37\n",
      "Fizz\n",
      "Buzz\n",
      "Fizz\n",
      "41\n",
      "FizzBuzz\n",
      "43\n",
      "Fizz\n",
      "Buzz\n",
      "Fizz\n",
      "47\n",
      "FizzBuzz\n",
      "49\n",
      "Fizz\n"
     ]
    }
   ],
   "source": [
    "def fizzbuzzfn(num) -> str:\n",
    "    mod_2 = (num % 2 == 0) \n",
    "    mod_3 = (num % 3 == 0)\n",
    "    if (mod_2 or mod_3):\n",
    "        return (mod_2 * 'Fizz') + (mod_3 * 'Buzz')\n",
    "    return str(num)\n",
    "print('\\n'.join([fizzbuzzfn(x) for x in range(1,51)]))"
   ]
  },
  {
   "cell_type": "code",
   "execution_count": 88,
   "metadata": {},
   "outputs": [
    {
     "name": "stdout",
     "output_type": "stream",
     "text": [
      "Enter the string\n",
      "Hiwefer\n"
     ]
    },
    {
     "data": {
      "text/plain": [
       "'Hiwefer'"
      ]
     },
     "execution_count": 88,
     "metadata": {},
     "output_type": "execute_result"
    }
   ],
   "source": [
    "n=input('Enter the string\\n')\n",
    "for i in n:\n",
    "    i.search"
   ]
  },
  {
   "cell_type": "code",
   "execution_count": 92,
   "metadata": {},
   "outputs": [],
   "source": [
    "def sum1(*args):\n",
    "    sum=0\n",
    "    for i in args:\n",
    "        sum=sum+i\n",
    "    return sum"
   ]
  },
  {
   "cell_type": "code",
   "execution_count": 93,
   "metadata": {},
   "outputs": [
    {
     "data": {
      "text/plain": [
       "46"
      ]
     },
     "execution_count": 93,
     "metadata": {},
     "output_type": "execute_result"
    }
   ],
   "source": [
    "sum1(1,34,5,6)"
   ]
  },
  {
   "cell_type": "raw",
   "metadata": {},
   "source": [
    "Question 1: Create a 4X2 integer array and Prints its attributes"
   ]
  },
  {
   "cell_type": "code",
   "execution_count": 1,
   "metadata": {},
   "outputs": [],
   "source": [
    "import numpy as np"
   ]
  },
  {
   "cell_type": "code",
   "execution_count": 3,
   "metadata": {},
   "outputs": [],
   "source": [
    "n=np.arange(8).reshape(4,2)"
   ]
  },
  {
   "cell_type": "code",
   "execution_count": 4,
   "metadata": {},
   "outputs": [
    {
     "data": {
      "text/plain": [
       "(4, 2)"
      ]
     },
     "execution_count": 4,
     "metadata": {},
     "output_type": "execute_result"
    }
   ],
   "source": [
    "n.shape"
   ]
  },
  {
   "cell_type": "code",
   "execution_count": 5,
   "metadata": {},
   "outputs": [
    {
     "data": {
      "text/plain": [
       "dtype('int32')"
      ]
     },
     "execution_count": 5,
     "metadata": {},
     "output_type": "execute_result"
    }
   ],
   "source": [
    "n.dtype"
   ]
  },
  {
   "cell_type": "code",
   "execution_count": 10,
   "metadata": {},
   "outputs": [
    {
     "data": {
      "text/plain": [
       "array([[22449, 58102],\n",
       "       [62443, 34947],\n",
       "       [ 4242,  8827],\n",
       "       [ 4261, 29771]], dtype=uint16)"
      ]
     },
     "execution_count": 10,
     "metadata": {},
     "output_type": "execute_result"
    }
   ],
   "source": [
    "np.empty([4,2],dtype='uint16')"
   ]
  },
  {
   "cell_type": "raw",
   "metadata": {},
   "source": [
    "Question 2: Create a 5X2 integer array from a range between 100 to 200 such that the difference between each element is 10"
   ]
  },
  {
   "cell_type": "code",
   "execution_count": 13,
   "metadata": {},
   "outputs": [
    {
     "data": {
      "text/plain": [
       "array([[100, 110],\n",
       "       [120, 130],\n",
       "       [140, 150],\n",
       "       [160, 170],\n",
       "       [180, 190]])"
      ]
     },
     "execution_count": 13,
     "metadata": {},
     "output_type": "execute_result"
    }
   ],
   "source": [
    "np.arange(100,200,10).reshape(5,2)"
   ]
  },
  {
   "cell_type": "raw",
   "metadata": {},
   "source": [
    "Question 3: Following is the provided numPy array. return array of items in the third column from all rows"
   ]
  },
  {
   "cell_type": "code",
   "execution_count": 59,
   "metadata": {},
   "outputs": [],
   "source": [
    "sampleArray = np.array([[11 ,22, 33], [44, 55, 66], [77, 88, 99]])"
   ]
  },
  {
   "cell_type": "code",
   "execution_count": 60,
   "metadata": {},
   "outputs": [
    {
     "data": {
      "text/plain": [
       "array([33., 66., 99.])"
      ]
     },
     "execution_count": 60,
     "metadata": {},
     "output_type": "execute_result"
    }
   ],
   "source": [
    "a=[]\n",
    "for i in sampleArray:\n",
    "    a=np.append(arr=a,values=i[2])   \n",
    "np.array(a)"
   ]
  },
  {
   "cell_type": "code",
   "execution_count": 66,
   "metadata": {},
   "outputs": [
    {
     "name": "stdout",
     "output_type": "stream",
     "text": [
      "[ 9 21 33 45 57]\n"
     ]
    }
   ],
   "source": [
    "newArray = sampleArray[...,2]\n",
    "print(newArray)"
   ]
  },
  {
   "cell_type": "raw",
   "metadata": {},
   "source": [
    "Question 4: Following is the given numpy array return array of odd rows and even columns"
   ]
  },
  {
   "cell_type": "code",
   "execution_count": 63,
   "metadata": {},
   "outputs": [],
   "source": [
    "sampleArray = np.array([[3 ,6, 9, 12], [15 ,18, 21, 24], \n",
    "[27 ,30, 33, 36], [39 ,42, 45, 48], [51 ,54, 57, 60]])"
   ]
  },
  {
   "cell_type": "code",
   "execution_count": 64,
   "metadata": {},
   "outputs": [
    {
     "data": {
      "text/plain": [
       "array([[ 3,  6,  9, 12],\n",
       "       [15, 18, 21, 24],\n",
       "       [27, 30, 33, 36],\n",
       "       [39, 42, 45, 48],\n",
       "       [51, 54, 57, 60]])"
      ]
     },
     "execution_count": 64,
     "metadata": {},
     "output_type": "execute_result"
    }
   ],
   "source": [
    "i%2==0\n",
    "i%2!=0"
   ]
  },
  {
   "cell_type": "code",
   "execution_count": 67,
   "metadata": {},
   "outputs": [
    {
     "ename": "IndexError",
     "evalue": "boolean index did not match indexed array along dimension 0; dimension is 5 but corresponding boolean dimension is 3",
     "output_type": "error",
     "traceback": [
      "\u001b[1;31m---------------------------------------------------------------------------\u001b[0m",
      "\u001b[1;31mIndexError\u001b[0m                                Traceback (most recent call last)",
      "\u001b[1;32m<ipython-input-67-3d67a35486e7>\u001b[0m in \u001b[0;36m<module>\u001b[1;34m\u001b[0m\n\u001b[1;32m----> 1\u001b[1;33m \u001b[1;32mfor\u001b[0m \u001b[0mi\u001b[0m \u001b[1;32min\u001b[0m \u001b[0msampleArray\u001b[0m\u001b[1;33m[\u001b[0m\u001b[0mi\u001b[0m\u001b[1;33m%\u001b[0m\u001b[1;36m2\u001b[0m\u001b[1;33m!=\u001b[0m\u001b[1;36m0\u001b[0m\u001b[1;33m]\u001b[0m\u001b[1;33m:\u001b[0m\u001b[1;33m\u001b[0m\u001b[1;33m\u001b[0m\u001b[0m\n\u001b[0m\u001b[0;32m      2\u001b[0m     \u001b[0mprint\u001b[0m\u001b[1;33m(\u001b[0m\u001b[0mi\u001b[0m\u001b[1;33m)\u001b[0m\u001b[1;33m\u001b[0m\u001b[1;33m\u001b[0m\u001b[0m\n",
      "\u001b[1;31mIndexError\u001b[0m: boolean index did not match indexed array along dimension 0; dimension is 5 but corresponding boolean dimension is 3"
     ]
    }
   ],
   "source": [
    "for i in sampleArray[i%2!=0]:\n",
    "    print(i)"
   ]
  },
  {
   "cell_type": "code",
   "execution_count": 79,
   "metadata": {},
   "outputs": [
    {
     "data": {
      "text/plain": [
       "array([[ 3,  9],\n",
       "       [27, 33],\n",
       "       [51, 57]])"
      ]
     },
     "execution_count": 79,
     "metadata": {},
     "output_type": "execute_result"
    }
   ],
   "source": [
    "\n",
    "sampleArray[0:5:2,0:5:2]"
   ]
  },
  {
   "cell_type": "raw",
   "metadata": {},
   "source": [
    "Question 5: Add the following two NumPy arrays and Modify a result array by calculating the square of each element"
   ]
  },
  {
   "cell_type": "code",
   "execution_count": 80,
   "metadata": {},
   "outputs": [],
   "source": [
    "arrayOne = np.array([[5, 6, 9], [21 ,18, 27]])\n",
    "arrayTwo = np.array([[15 ,33, 24], [4 ,7, 1]])"
   ]
  },
  {
   "cell_type": "code",
   "execution_count": 81,
   "metadata": {},
   "outputs": [],
   "source": [
    "arraythree=arrayOne+arrayTwo"
   ]
  },
  {
   "cell_type": "code",
   "execution_count": 83,
   "metadata": {},
   "outputs": [
    {
     "data": {
      "text/plain": [
       "array([[ 400, 1521, 1089],\n",
       "       [ 625,  625,  784]], dtype=int32)"
      ]
     },
     "execution_count": 83,
     "metadata": {},
     "output_type": "execute_result"
    }
   ],
   "source": [
    "arraythree**2"
   ]
  },
  {
   "cell_type": "raw",
   "metadata": {},
   "source": [
    "Question 6: Split the array into four equal-sized sub-arrays\n",
    "Note: Create an 8X3 integer array from a range between 10 to 34 such that the difference between each element is 1 and then Split the array into four equal-sized sub-arrays."
   ]
  },
  {
   "cell_type": "code",
   "execution_count": 86,
   "metadata": {},
   "outputs": [],
   "source": [
    "new1=np.arange(10,34).reshape(8,3)"
   ]
  },
  {
   "cell_type": "code",
   "execution_count": 91,
   "metadata": {},
   "outputs": [
    {
     "data": {
      "text/plain": [
       "[array([[10, 11, 12],\n",
       "        [13, 14, 15]]),\n",
       " array([[16, 17, 18],\n",
       "        [19, 20, 21]]),\n",
       " array([[22, 23, 24],\n",
       "        [25, 26, 27]]),\n",
       " array([[28, 29, 30],\n",
       "        [31, 32, 33]])]"
      ]
     },
     "execution_count": 91,
     "metadata": {},
     "output_type": "execute_result"
    }
   ],
   "source": [
    "np.split(new1,4)"
   ]
  },
  {
   "cell_type": "raw",
   "metadata": {},
   "source": [
    "Question 7; Sort following NumPy array\n",
    "7.1- by the second row and\n",
    "7.2-by the second column"
   ]
  },
  {
   "cell_type": "code",
   "execution_count": 92,
   "metadata": {},
   "outputs": [],
   "source": [
    "new=np.array([[34,43,73],[82,22,12],[53,94,66]])"
   ]
  },
  {
   "cell_type": "code",
   "execution_count": 102,
   "metadata": {},
   "outputs": [
    {
     "data": {
      "text/plain": [
       "array([[12, 22, 34],\n",
       "       [43, 53, 66],\n",
       "       [73, 82, 94]])"
      ]
     },
     "execution_count": 102,
     "metadata": {},
     "output_type": "execute_result"
    }
   ],
   "source": [
    "np.sort(new,axis=1)"
   ]
  },
  {
   "cell_type": "code",
   "execution_count": 118,
   "metadata": {},
   "outputs": [
    {
     "name": "stdout",
     "output_type": "stream",
     "text": [
      "[[34 43 73]\n",
      " [82 22 12]\n",
      " [53 94 66]]\n"
     ]
    }
   ],
   "source": [
    "sampleArray = np.array([[34,43,73],[82,22,12],[53,94,66]]) \n",
    "print (sampleArray)\n",
    "\n",
    "sortArrayByRow = sampleArray[:,sampleArray[1,:].argsort()]"
   ]
  },
  {
   "cell_type": "code",
   "execution_count": 119,
   "metadata": {},
   "outputs": [
    {
     "data": {
      "text/plain": [
       "array([[73, 43, 34],\n",
       "       [12, 22, 82],\n",
       "       [66, 94, 53]])"
      ]
     },
     "execution_count": 119,
     "metadata": {},
     "output_type": "execute_result"
    }
   ],
   "source": [
    "sortArrayByRow"
   ]
  },
  {
   "cell_type": "code",
   "execution_count": 120,
   "metadata": {},
   "outputs": [],
   "source": [
    "sortArraybyColumn=sampleArray[sampleArray[:,1].argsort(),:]"
   ]
  },
  {
   "cell_type": "raw",
   "metadata": {},
   "source": [
    "Question 8: Following is the 2-D array. Print max from axis 0 and min from axis 1"
   ]
  },
  {
   "cell_type": "code",
   "execution_count": 121,
   "metadata": {},
   "outputs": [
    {
     "data": {
      "text/plain": [
       "array([[82, 22, 12],\n",
       "       [34, 43, 73],\n",
       "       [53, 94, 66]])"
      ]
     },
     "execution_count": 121,
     "metadata": {},
     "output_type": "execute_result"
    }
   ],
   "source": [
    "sortArraybyColumn"
   ]
  },
  {
   "cell_type": "code",
   "execution_count": 122,
   "metadata": {},
   "outputs": [
    {
     "data": {
      "text/plain": [
       "array([82, 94, 73])"
      ]
     },
     "execution_count": 122,
     "metadata": {},
     "output_type": "execute_result"
    }
   ],
   "source": [
    "np.amax(sampleArray, 0) "
   ]
  },
  {
   "cell_type": "code",
   "execution_count": 123,
   "metadata": {},
   "outputs": [
    {
     "data": {
      "text/plain": [
       "array([34, 12, 53])"
      ]
     },
     "execution_count": 123,
     "metadata": {},
     "output_type": "execute_result"
    }
   ],
   "source": [
    "np.amin(sampleArray,1)"
   ]
  },
  {
   "cell_type": "raw",
   "metadata": {},
   "source": [
    "Question 9: Following is the input NumPy array delete column two and insert following new column in its place.\n",
    "import numpy"
   ]
  },
  {
   "cell_type": "code",
   "execution_count": 125,
   "metadata": {},
   "outputs": [],
   "source": [
    "sampleArray = np.array([[34,43,73],[82,22,12],[53,94,66]]) "
   ]
  },
  {
   "cell_type": "code",
   "execution_count": 130,
   "metadata": {},
   "outputs": [],
   "source": [
    "sampleArray=np.delete(sampleArray,1,axis=0)"
   ]
  },
  {
   "cell_type": "code",
   "execution_count": 135,
   "metadata": {},
   "outputs": [
    {
     "data": {
      "text/plain": [
       "array([[34, 43, 73],\n",
       "       [ 4, 54,  3],\n",
       "       [53, 94, 66]])"
      ]
     },
     "execution_count": 135,
     "metadata": {},
     "output_type": "execute_result"
    }
   ],
   "source": [
    "np.insert(sampleArray,1,[4,54,3],axis=0)"
   ]
  },
  {
   "cell_type": "raw",
   "metadata": {},
   "source": [
    "Question 10: Create a two 2-D array and Plot it using matplotlibv"
   ]
  },
  {
   "cell_type": "code",
   "execution_count": 144,
   "metadata": {},
   "outputs": [],
   "source": [
    "n=np.arange(4).reshape(2,2,)"
   ]
  },
  {
   "cell_type": "code",
   "execution_count": 145,
   "metadata": {},
   "outputs": [],
   "source": [
    "import matplotlib.pyplot as plt"
   ]
  },
  {
   "cell_type": "code",
   "execution_count": 146,
   "metadata": {},
   "outputs": [
    {
     "data": {
      "text/plain": [
       "[<matplotlib.lines.Line2D at 0x244f8a82908>,\n",
       " <matplotlib.lines.Line2D at 0x244f8a898c8>]"
      ]
     },
     "execution_count": 146,
     "metadata": {},
     "output_type": "execute_result"
    },
    {
     "data": {
      "image/png": "[encoded data removed]",
      "text/plain": [
       "<Figure size 432x288 with 1 Axes>"
      ]
     },
     "metadata": {
      "needs_background": "light"
     },
     "output_type": "display_data"
    }
   ],
   "source": [
    "plt.plot(n)"
   ]
  },
  {
   "cell_type": "code",
   "execution_count": null,
   "metadata": {},
   "outputs": [],
   "source": []
  }
 ],
 "metadata": {
  "kernelspec": {
   "display_name": "Python 3",
   "language": "python",
   "name": "python3"
  },
  "language_info": {
   "codemirror_mode": {
    "name": "ipython",
    "version": 3
   },
   "file_extension": ".py",
   "mimetype": "text/x-python",
   "name": "python",
   "nbconvert_exporter": "python",
   "pygments_lexer": "ipython3",
   "version": "3.7.6"
  }
 },
 "nbformat": 4,
 "nbformat_minor": 4
}
